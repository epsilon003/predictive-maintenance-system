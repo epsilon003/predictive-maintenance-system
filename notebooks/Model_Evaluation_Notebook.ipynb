{
 "cells": [
  {
   "cell_type": "markdown",
   "id": "dd746c5b",
   "metadata": {},
   "source": [
    "# 🧪 Model Evaluation for Predictive Maintenance"
   ]
  },
  {
   "cell_type": "code",
   "execution_count": null,
   "id": "402c67c9",
   "metadata": {},
   "outputs": [],
   "source": [
    "# Import libraries\n",
    "import pandas as pd\n",
    "import joblib\n",
    "from sklearn.model_selection import train_test_split\n",
    "from sklearn.metrics import accuracy_score, confusion_matrix, classification_report\n",
    "import matplotlib.pyplot as plt\n",
    "import seaborn as sns\n"
   ]
  },
  {
   "cell_type": "markdown",
   "id": "6b0dc93c",
   "metadata": {},
   "source": [
    "## 📥 Load Data and Model"
   ]
  },
  {
   "cell_type": "code",
   "execution_count": null,
   "id": "7ac5a1b3",
   "metadata": {},
   "outputs": [],
   "source": [
    "# Load the processed dataset\n",
    "df = pd.read_csv(\"processed_data.csv\")\n",
    "\n",
    "# Separate features and target\n",
    "X = df.drop(\"Target\", axis=1)\n",
    "y = df[\"Target\"]\n",
    "\n",
    "# Load the trained model\n",
    "model = joblib.load(\"rf_model.pkl\")\n"
   ]
  },
  {
   "cell_type": "markdown",
   "id": "1d406604",
   "metadata": {},
   "source": [
    "## 🧪 Train/Test Split and Predictions"
   ]
  },
  {
   "cell_type": "code",
   "execution_count": null,
   "id": "b759fbc0",
   "metadata": {},
   "outputs": [],
   "source": [
    "# Split data for evaluation\n",
    "X_train, X_test, y_train, y_test = train_test_split(X, y, test_size=0.2, random_state=42)\n",
    "\n",
    "# Predict\n",
    "y_pred = model.predict(X_test)\n"
   ]
  },
  {
   "cell_type": "markdown",
   "id": "faa39a29",
   "metadata": {},
   "source": [
    "## 📊 Accuracy Score"
   ]
  },
  {
   "cell_type": "code",
   "execution_count": null,
   "id": "5e79a5c3",
   "metadata": {},
   "outputs": [],
   "source": [
    "accuracy = accuracy_score(y_test, y_pred)\n",
    "print(\"Accuracy:\", accuracy)\n"
   ]
  },
  {
   "cell_type": "markdown",
   "id": "e87c400b",
   "metadata": {},
   "source": [
    "## 📉 Confusion Matrix"
   ]
  },
  {
   "cell_type": "code",
   "execution_count": null,
   "id": "9f9f3417",
   "metadata": {},
   "outputs": [],
   "source": [
    "cm = confusion_matrix(y_test, y_pred)\n",
    "sns.heatmap(cm, annot=True, fmt=\"d\", cmap=\"Blues\", xticklabels=[\"No Failure\", \"Failure\"], yticklabels=[\"No Failure\", \"Failure\"])\n",
    "plt.xlabel(\"Predicted\")\n",
    "plt.ylabel(\"Actual\")\n",
    "plt.title(\"Confusion Matrix\")\n",
    "plt.show()\n"
   ]
  },
  {
   "cell_type": "markdown",
   "id": "2d824578",
   "metadata": {},
   "source": [
    "## 📑 Classification Report"
   ]
  },
  {
   "cell_type": "code",
   "execution_count": null,
   "id": "f3e083ff",
   "metadata": {},
   "outputs": [],
   "source": [
    "print(classification_report(y_test, y_pred, target_names=[\"No Failure\", \"Failure\"]))\n"
   ]
  },
  {
   "cell_type": "markdown",
   "id": "d39ec444",
   "metadata": {},
   "source": [
    "## 🌟 Feature Importance"
   ]
  },
  {
   "cell_type": "code",
   "execution_count": null,
   "id": "e425eb75",
   "metadata": {},
   "outputs": [],
   "source": [
    "importances = pd.Series(model.feature_importances_, index=X.columns)\n",
    "importances.nlargest(10).plot(kind='barh', title=\"Top 10 Feature Importances\")\n",
    "plt.xlabel(\"Importance\")\n",
    "plt.ylabel(\"Feature\")\n",
    "plt.show()\n"
   ]
  },
  {
   "cell_type": "markdown",
   "id": "57c450ae",
   "metadata": {},
   "source": [
    "## 🔁 Cross-validation"
   ]
  },
  {
   "cell_type": "code",
   "execution_count": null,
   "id": "e6e3f8fb",
   "metadata": {},
   "outputs": [],
   "source": [
    "from sklearn.model_selection import cross_val_score\n",
    "\n",
    "scores = cross_val_score(model, X, y, cv=5, scoring='f1')\n",
    "print(\"F1 scores across 5 folds:\", scores)\n",
    "print(\"Mean F1 Score:\", scores.mean())\n"
   ]
  }
 ],
 "metadata": {},
 "nbformat": 4,
 "nbformat_minor": 5
}